{
 "cells": [
  {
   "cell_type": "markdown",
   "metadata": {},
   "source": [
    "> ---\n",
    "> ---\n",
    "> # Langage C - Notebook Extra (optionnel)\n",
    "> # Généricité en C\n",
    "> #### Katia Jaffrès-Runser, Xavier Crégut\n",
    "> Toulouse INP - ENSEEIHT,\n",
    "> 1ère année, Dept. Sciences du Numérique, 2020-2021.\n",
    "> ---\n",
    "> ---"
   ]
  },
  {
   "cell_type": "markdown",
   "metadata": {},
   "source": [
    "## Définition d'une file d’attente générique.\n",
    "\n",
    "Dans l'exercice Bilan du notebook C3, vous avez implanté un module `file` qui manipule des éléments de type `char`. \n",
    "Dans cet exercice, on vous propose de rendre ce module `file` générique, et ainsi arriver à manipuler n'importe quel type de données.\n",
    "\n",
    "> __Note__  \n",
    "Il n'existe aucun mécanisme offrant la gestion de la généricité en C comme vous l'avez vu en Ada.  \n",
    "C'est au développeur de la mettre en oeuvre. Cet exercice a pour but de vous illustrer une solution qui utilise `make` pour simuler la généricité. \n",
    "\n",
    "On garde les opérations sur une file suivantes :\n",
    "\n",
    "- __initialiser__ : initialiser une file (une variable de type File). Une file ne peut être utilisée que si elle a été initialisée ;\n",
    "- __detruire__ : détruire un file, elle ne pourra plus être utilisée (sauf à être de nouveau initialisée) ;\n",
    "- __inserer__ : insérer un nouvel élément dans la file ;\n",
    "- __extraire__ : extraire le plus ancien élément de la file ;\n",
    "- __tete__ : l'élément en tête de la file ;\n",
    "- __est_vide__ : savoir si une file est vide ou non ;\n",
    "- __longueur__ : obtenir la longueur de la file ;\n",
    "\n",
    "\n",
    "### Type générique\n",
    "Pour créer un module générique, on créer un type générique à l'aide de la commande `typedef` : \n",
    "```\n",
    "typedef _T_GEN t_element\n",
    "```\n",
    "\n",
    "### Module générique\n",
    "\n",
    "On utilise alors ce type pour prototyper les sous-programmes d'un module générique `file_GEN`.  \n",
    "\n",
    "#### Questions\n",
    "Pour obtenir ce module (vous trouverez les sources dans le répertoire `c3/fichiers_C/extra`) : \n",
    "1. renommer les fichiers du module `file` avec `file_GEN.h` et `file_GEN.c`.\n",
    "2. renommer tous les types (File et Cellule) en ajoutant le suffixe `__T_GEN`. Par exemple, pour le type File, on obtient `File__T_GEN`. Modifier la signature de tous les sous-programmes en conséquence.\n",
    "3. ajouter `typedef T_GEN t_element` au début de `file_GEN.h`.\n",
    "4. modifier `#include \"file.h\"` avec `#include \"file_GEN.h\"` dans `file_GEN.c`\n",
    "5. modifier la déclaration de `Cellule__T_GEN` pour que la valeur soit de type `t_element`. Modifier les sous-programmes en conséquence. \n",
    "6. modifier la signature de tous les sous-programmes en leur ajoutant un suffixe `__GEN`. Par exemple, `void initialiser(File_T_GEN *f);` devient `void initialiser__GEN(File_T_GEN *f);`.\n",
    "\n",
    "### Instantiation avec `make` et `sed`\n",
    "\n",
    "Pour instancier un nouveau module, on va créer une version des fichiers `file_GEN.h` et `file_GEN.c` qui se nomme `file_char.h` et `file_char.c` où les suffixes `_GEN` et `_T_GEN` sont remplacés par le nom du type réel. Pour se faire, on automatise la production de ces fichiers avec des règles dans `Makefile` qui utilisent la commande linux `sed`. \n",
    "\n",
    "La commande `sed` permet d'automatiser des traitements sur des flux texte, et permet notamment de faire du `rechercher / remplacer` dans un fichier.  \n",
    "Voici une commande qui permet de remplacer les suffixes avec le mot `char` pour générer `file_char.h` à partir de `file_GEN.h` : \n",
    "\n",
    "```\n",
    "cat file_GEN.h | sed -e 's/_T_GEN\\>/char/g' | sed -e 's/_GEN\\>/char/g' > file_char.h\n",
    "```\n",
    "On observe ici l'enchaînement de 3 commandes : \n",
    "- La commande `cat` permet d'afficher sur la sortie standard le contenu du fichier `file_GEN.h`. \n",
    "- Une première commande `sed` va remplacer le motif `_T_GEN` par le motif `char` dans le flux texte issu de la commande `cat`.\n",
    "- Une deuxième commande `sed` traite le flux texte issu de la commande `sed` précédente pour remplacer le modif `_GEN` par le motif `char`.\n",
    "Le résultat est envoyé dans un nouveau fichier `file_char.h`.\n",
    "\n",
    "\n",
    "#### Questions.\n",
    "1. Exécuter cette commande dans un terminal et observer le fichier `file_char.h` produit. \n",
    "2. Créer deux règles dans le fichier `Makefile` pour produire `file_char.h` et `file_char.c`.\n",
    "3. Modifier `exemple_file.c` et `test_file.c` pour qu'ils utilisent le nouveau module `file_char` ainsi produit. "
   ]
  },
  {
   "cell_type": "code",
   "execution_count": null,
   "metadata": {},
   "outputs": [],
   "source": []
  }
 ],
 "metadata": {
  "celltoolbar": "Format de la Cellule Texte Brut",
  "kernelspec": {
   "display_name": "C",
   "language": "c",
   "name": "c"
  },
  "language_info": {
   "file_extension": ".c",
   "mimetype": "text/plain",
   "name": "c"
  }
 },
 "nbformat": 4,
 "nbformat_minor": 4
}
